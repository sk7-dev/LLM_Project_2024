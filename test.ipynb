{
 "cells": [
  {
   "cell_type": "code",
   "execution_count": null,
   "metadata": {},
   "outputs": [],
   "source": []
  },
  {
   "cell_type": "code",
   "execution_count": 1,
   "metadata": {},
   "outputs": [],
   "source": [
    "with open('input.txt', 'r', encoding='utf-8') as f:\n",
    "    text = f.read()"
   ]
  },
  {
   "cell_type": "code",
   "execution_count": 2,
   "metadata": {},
   "outputs": [
    {
     "name": "stdout",
     "output_type": "stream",
     "text": [
      "length of dataset in characters:  1115394\n"
     ]
    }
   ],
   "source": [
    "print(\"length of dataset in characters: \", len(text))"
   ]
  },
  {
   "cell_type": "code",
   "execution_count": 3,
   "metadata": {},
   "outputs": [
    {
     "name": "stdout",
     "output_type": "stream",
     "text": [
      "\n",
      " !$&',-.3:;?ABCDEFGHIJKLMNOPQRSTUVWXYZabcdefghijklmnopqrstuvwxyz\n",
      "65\n"
     ]
    }
   ],
   "source": [
    "# here are all the unique characters that occur in this text\n",
    "chars = sorted(list(set(text)))\n",
    "vocab_size = len(chars)\n",
    "print(''.join(chars))\n",
    "print(vocab_size)"
   ]
  },
  {
   "cell_type": "markdown",
   "metadata": {},
   "source": [
    "![Screenshot (330).png](<attachment:Screenshot (330).png>)"
   ]
  },
  {
   "cell_type": "code",
   "execution_count": 56,
   "metadata": {},
   "outputs": [
    {
     "name": "stdout",
     "output_type": "stream",
     "text": [
      "[46, 47, 47, 1, 58, 46, 43, 56, 43]\n",
      "hii there\n"
     ]
    }
   ],
   "source": [
    "# create a mapping from characters to integers\n",
    "stoi = { ch:i for i,ch in enumerate(chars) }\n",
    "itos = { i:ch for i,ch in enumerate(chars) }\n",
    "encode = lambda s: [stoi[c] for c in s] # encoder: take a string, output a list of integers\n",
    "decode = lambda l: ''.join([itos[i] for i in l]) # decoder: take a list of integers, output a string\n",
    "\n",
    "print(encode(\"hii there\"))\n",
    "print(decode(encode(\"hii there\")))"
   ]
  },
  {
   "cell_type": "code",
   "execution_count": null,
   "metadata": {},
   "outputs": [],
   "source": [
    "for i in enumerate(chars):\n",
    "    print(i) #it will return a tuple"
   ]
  },
  {
   "cell_type": "code",
   "execution_count": 12,
   "metadata": {},
   "outputs": [
    {
     "name": "stdout",
     "output_type": "stream",
     "text": [
      "{(49, 'k'), (61, 'w'), (40, 'b'), (60, 'v'), (19, 'G'), (48, 'j'), (4, '&'), (35, 'W'), (8, '.'), (10, ':'), (31, 'S'), (20, 'H'), (6, ','), (14, 'B'), (22, 'J'), (7, '-'), (52, 'n'), (42, 'd'), (56, 'r'), (43, 'e'), (55, 'q'), (59, 'u'), (16, 'D'), (51, 'm'), (24, 'L'), (1, ' '), (5, \"'\"), (34, 'V'), (57, 's'), (47, 'i'), (50, 'l'), (15, 'C'), (23, 'K'), (32, 'T'), (53, 'o'), (64, 'z'), (58, 't'), (33, 'U'), (25, 'M'), (28, 'P'), (0, '\\n'), (11, ';'), (2, '!'), (29, 'Q'), (18, 'F'), (26, 'N'), (9, '3'), (13, 'A'), (21, 'I'), (27, 'O'), (45, 'g'), (36, 'X'), (37, 'Y'), (30, 'R'), (3, '$'), (62, 'x'), (12, '?'), (44, 'f'), (39, 'a'), (41, 'c'), (46, 'h'), (63, 'y'), (54, 'p'), (17, 'E'), (38, 'Z')}\n"
     ]
    }
   ],
   "source": [
    "stoi = { i for i in enumerate(chars) }\n",
    "print(stoi)"
   ]
  },
  {
   "cell_type": "code",
   "execution_count": 14,
   "metadata": {},
   "outputs": [
    {
     "name": "stdout",
     "output_type": "stream",
     "text": [
      "{'\\n': 0, ' ': 1, '!': 2, '$': 3, '&': 4, \"'\": 5, ',': 6, '-': 7, '.': 8, '3': 9, ':': 10, ';': 11, '?': 12, 'A': 13, 'B': 14, 'C': 15, 'D': 16, 'E': 17, 'F': 18, 'G': 19, 'H': 20, 'I': 21, 'J': 22, 'K': 23, 'L': 24, 'M': 25, 'N': 26, 'O': 27, 'P': 28, 'Q': 29, 'R': 30, 'S': 31, 'T': 32, 'U': 33, 'V': 34, 'W': 35, 'X': 36, 'Y': 37, 'Z': 38, 'a': 39, 'b': 40, 'c': 41, 'd': 42, 'e': 43, 'f': 44, 'g': 45, 'h': 46, 'i': 47, 'j': 48, 'k': 49, 'l': 50, 'm': 51, 'n': 52, 'o': 53, 'p': 54, 'q': 55, 'r': 56, 's': 57, 't': 58, 'u': 59, 'v': 60, 'w': 61, 'x': 62, 'y': 63, 'z': 64}\n"
     ]
    }
   ],
   "source": [
    "stoi = { ch:i for i,ch in enumerate(chars) }\n",
    "print(stoi)"
   ]
  },
  {
   "cell_type": "code",
   "execution_count": 10,
   "metadata": {},
   "outputs": [
    {
     "name": "stdout",
     "output_type": "stream",
     "text": [
      "{0: '\\n', 1: ' ', 2: '!', 3: '$', 4: '&', 5: \"'\", 6: ',', 7: '-', 8: '.', 9: '3', 10: ':', 11: ';', 12: '?', 13: 'A', 14: 'B', 15: 'C', 16: 'D', 17: 'E', 18: 'F', 19: 'G', 20: 'H', 21: 'I', 22: 'J', 23: 'K', 24: 'L', 25: 'M', 26: 'N', 27: 'O', 28: 'P', 29: 'Q', 30: 'R', 31: 'S', 32: 'T', 33: 'U', 34: 'V', 35: 'W', 36: 'X', 37: 'Y', 38: 'Z', 39: 'a', 40: 'b', 41: 'c', 42: 'd', 43: 'e', 44: 'f', 45: 'g', 46: 'h', 47: 'i', 48: 'j', 49: 'k', 50: 'l', 51: 'm', 52: 'n', 53: 'o', 54: 'p', 55: 'q', 56: 'r', 57: 's', 58: 't', 59: 'u', 60: 'v', 61: 'w', 62: 'x', 63: 'y', 64: 'z'}\n"
     ]
    }
   ],
   "source": [
    "itos = { i:ch for i,ch in enumerate(chars) }\n",
    "print(itos)"
   ]
  },
  {
   "cell_type": "markdown",
   "metadata": {},
   "source": [
    "**\"lambda\" functions are anonymous functions. They are useful when you need a small function temporarily and don't want to define a full function with def.** `lambda parameters: expression`"
   ]
  },
  {
   "cell_type": "code",
   "execution_count": 15,
   "metadata": {},
   "outputs": [
    {
     "name": "stdout",
     "output_type": "stream",
     "text": [
      "25\n"
     ]
    }
   ],
   "source": [
    "square = lambda x: x ** 2\n",
    "print(square(5)) "
   ]
  },
  {
   "cell_type": "code",
   "execution_count": null,
   "metadata": {},
   "outputs": [],
   "source": [
    "def square(x):\n",
    "    return x ** 2"
   ]
  },
  {
   "cell_type": "code",
   "execution_count": null,
   "metadata": {},
   "outputs": [
    {
     "name": "stdout",
     "output_type": "stream",
     "text": [
      "[39, 40, 41]\n"
     ]
    }
   ],
   "source": [
    "encode = lambda s: [stoi[c] for c in s] #list comprehension\n",
    "a = encode(\"abc\")\n",
    "print(a)"
   ]
  },
  {
   "cell_type": "code",
   "execution_count": null,
   "metadata": {},
   "outputs": [
    {
     "name": "stdout",
     "output_type": "stream",
     "text": [
      "[39, 40, 41]\n"
     ]
    }
   ],
   "source": [
    "s = 'abc'\n",
    "def encode(s): \n",
    "    a = [] \n",
    "    for c in s:  \n",
    "        a.append(stoi[c])\n",
    "    return a\n",
    "data = encode(s)\n",
    "print(data)\n"
   ]
  },
  {
   "cell_type": "markdown",
   "metadata": {},
   "source": [
    "**PyTorch tensor is a multi-dimensional array or matrix that is used to store data and perform computations in PyTorch**"
   ]
  },
  {
   "cell_type": "code",
   "execution_count": null,
   "metadata": {},
   "outputs": [],
   "source": [
    "import torch"
   ]
  },
  {
   "cell_type": "code",
   "execution_count": 61,
   "metadata": {},
   "outputs": [
    {
     "name": "stdout",
     "output_type": "stream",
     "text": [
      "tensor([[-0.2376, -1.3743, -0.2396],\n",
      "        [ 0.6130, -0.0225, -0.9432],\n",
      "        [ 1.2946,  2.0293,  0.7938]])\n"
     ]
    }
   ],
   "source": [
    "random_tensor = torch.randn(3, 3)  # 3x3 tensor with random values from normal distribution\n",
    "print(random_tensor)"
   ]
  },
  {
   "cell_type": "code",
   "execution_count": null,
   "metadata": {},
   "outputs": [
    {
     "name": "stdout",
     "output_type": "stream",
     "text": [
      "tensor([18, 47, 56, 57, 58,  1, 15, 47, 58, 47, 64, 43, 52, 10,  0, 14, 43, 44,\n",
      "        53, 56, 43,  1, 61, 43,  1, 54, 56, 53, 41, 43, 43, 42,  1, 39, 52, 63,\n",
      "         1, 44, 59, 56, 58, 46, 43, 56,  6,  1, 46, 43, 39, 56,  1, 51, 43,  1,\n",
      "        57, 54, 43, 39, 49,  8,  0,  0, 13, 50, 50, 10,  0, 31, 54, 43, 39, 49,\n",
      "         6,  1, 57, 54, 43, 39, 49,  8,  0,  0, 18, 47, 56, 57, 58,  1, 15, 47,\n",
      "        58, 47, 64, 43, 52, 10,  0, 37, 53, 59])\n"
     ]
    }
   ],
   "source": [
    "data = torch.tensor(encode(text), dtype=torch.long)\n",
    "print(data[:100])\n",
    "n = int(0.9*len(data)) # first 90% will be train, rest val\n",
    "train_data = data[:n]\n",
    "val_data = data[n:] "
   ]
  },
  {
   "cell_type": "code",
   "execution_count": null,
   "metadata": {},
   "outputs": [],
   "source": [
    "batch_size =32 # how many independent sequences will we process in parallel?\n",
    "block_size = 8 # what is the maximum context length for predictions?\n",
    "max_iters = 3000\n",
    "eval_interval = 300\n",
    "learning_rate = 1e-2\n",
    "device = 'cuda' if torch.cuda.is_available() else 'cpu'\n",
    "eval_iters = 200 "
   ]
  },
  {
   "cell_type": "code",
   "execution_count": 63,
   "metadata": {},
   "outputs": [],
   "source": [
    "def get_batch(split):\n",
    "    # generate a small batch of data of inputs x and targets y\n",
    "    data = train_data if split == 'train' else val_data\n",
    "    ix = torch.randint(len(data) - block_size, (batch_size,))\n",
    "    x = torch.stack([data[i:i+block_size] for i in ix])\n",
    "    y = torch.stack([data[i+1:i+block_size+1] for i in ix])\n",
    "    x, y = x.to(device), y.to(device)\n",
    "    return x, y"
   ]
  },
  {
   "cell_type": "code",
   "execution_count": null,
   "metadata": {},
   "outputs": [
    {
     "name": "stdout",
     "output_type": "stream",
     "text": [
      "inputs:\n",
      "torch.Size([32, 8])\n",
      "tensor([[50, 42,  1, 63, 53, 59,  1, 50],\n",
      "        [56, 51,  1, 58, 46, 43, 43,  8],\n",
      "        [42,  1, 47, 58,  1, 40, 43,  6],\n",
      "        [43, 50, 44,  6,  0, 21,  5, 50],\n",
      "        [58, 46,  1, 51, 53, 56, 43,  1],\n",
      "        [47, 57, 58, 43, 52,  1, 58, 53],\n",
      "        [53, 53, 42,  1, 58, 53, 52, 45],\n",
      "        [56,  5, 57,  1, 59, 52, 41, 50],\n",
      "        [57, 43,  6,  0, 15, 39, 52,  1],\n",
      "        [57, 43, 50, 60, 43, 57, 11,  0],\n",
      "        [46, 53, 61,  1, 39,  1, 59, 57],\n",
      "        [43, 44, 43, 56,  1, 51, 43,  1],\n",
      "        [ 1, 50, 47, 44, 43,  8,  0,  0],\n",
      "        [59,  1, 57, 46, 39, 50, 50,  1],\n",
      "        [47, 50, 50,  1, 57, 53, 53, 52],\n",
      "        [ 0, 21, 31, 13, 14, 17, 24, 24],\n",
      "        [57, 46, 11,  0, 13, 52, 42,  1],\n",
      "        [52, 45,  1, 59, 54, 53, 52,  1],\n",
      "        [61, 57,  1, 52, 53, 58,  1, 59],\n",
      "        [43, 44, 53, 56, 51, 47, 58, 47],\n",
      "        [39, 56, 54, 43, 47, 39, 52,  1],\n",
      "        [39, 58, 43, 50, 63, 11,  1, 63],\n",
      "        [16, 53, 61, 52,  6,  1, 50, 39],\n",
      "        [58, 43, 50, 50, 57,  1, 46, 43],\n",
      "        [ 1, 57, 39, 47, 42,  6,  0, 35],\n",
      "        [ 1, 56, 47, 45, 46, 58,  1, 60],\n",
      "        [ 7, 54, 53, 56, 58, 43, 56,  6],\n",
      "        [ 1, 58, 46, 43, 52,  1, 53, 52],\n",
      "        [ 6,  0, 35, 46, 53, 51,  1, 44],\n",
      "        [52,  1, 58, 46, 59, 57,  1, 58],\n",
      "        [60, 43,  1, 58, 53,  1, 56, 43],\n",
      "        [21,  1, 58, 46, 56, 53, 61,  6]])\n",
      "targets:\n",
      "torch.Size([32, 8])\n",
      "tensor([[42,  1, 63, 53, 59,  1, 50, 47],\n",
      "        [51,  1, 58, 46, 43, 43,  8,  0],\n",
      "        [ 1, 47, 58,  1, 40, 43,  6,  1],\n",
      "        [50, 44,  6,  0, 21,  5, 50, 50],\n",
      "        [46,  1, 51, 53, 56, 43,  1, 44],\n",
      "        [57, 58, 43, 52,  1, 58, 53,  1],\n",
      "        [53, 42,  1, 58, 53, 52, 45, 59],\n",
      "        [ 5, 57,  1, 59, 52, 41, 50, 43],\n",
      "        [43,  6,  0, 15, 39, 52,  1, 41],\n",
      "        [43, 50, 60, 43, 57, 11,  0, 18],\n",
      "        [53, 61,  1, 39,  1, 59, 57, 59],\n",
      "        [44, 43, 56,  1, 51, 43,  1, 58],\n",
      "        [50, 47, 44, 43,  8,  0,  0, 32],\n",
      "        [ 1, 57, 46, 39, 50, 50,  1, 57],\n",
      "        [50, 50,  1, 57, 53, 53, 52,  8],\n",
      "        [21, 31, 13, 14, 17, 24, 24, 13],\n",
      "        [46, 11,  0, 13, 52, 42,  1, 21],\n",
      "        [45,  1, 59, 54, 53, 52,  1, 63],\n",
      "        [57,  1, 52, 53, 58,  1, 59, 54],\n",
      "        [44, 53, 56, 51, 47, 58, 47, 43],\n",
      "        [56, 54, 43, 47, 39, 52,  1, 52],\n",
      "        [58, 43, 50, 63, 11,  1, 63, 53],\n",
      "        [53, 61, 52,  6,  1, 50, 39, 42],\n",
      "        [43, 50, 50, 57,  1, 46, 43, 56],\n",
      "        [57, 39, 47, 42,  6,  0, 35, 46],\n",
      "        [56, 47, 45, 46, 58,  1, 60, 39],\n",
      "        [54, 53, 56, 58, 43, 56,  6,  1],\n",
      "        [58, 46, 43, 52,  1, 53, 52,  1],\n",
      "        [ 0, 35, 46, 53, 51,  1, 44, 53],\n",
      "        [ 1, 58, 46, 59, 57,  1, 58, 53],\n",
      "        [43,  1, 58, 53,  1, 56, 43, 58],\n",
      "        [ 1, 58, 46, 56, 53, 61,  6,  1]])\n"
     ]
    }
   ],
   "source": [
    "xb, yb = get_batch('train') #comment\n",
    "print('inputs:')\n",
    "print(xb.shape)\n",
    "print(xb)\n",
    "print('targets:')\n",
    "print(yb.shape)\n",
    "print(yb)"
   ]
  }
 ],
 "metadata": {
  "kernelspec": {
   "display_name": "llmvenv",
   "language": "python",
   "name": "python3"
  },
  "language_info": {
   "codemirror_mode": {
    "name": "ipython",
    "version": 3
   },
   "file_extension": ".py",
   "mimetype": "text/x-python",
   "name": "python",
   "nbconvert_exporter": "python",
   "pygments_lexer": "ipython3",
   "version": "3.12.5"
  }
 },
 "nbformat": 4,
 "nbformat_minor": 2
}
